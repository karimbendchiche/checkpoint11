{
 "cells": [
  {
   "cell_type": "code",
   "execution_count": 2,
   "id": "c191d1da",
   "metadata": {},
   "outputs": [
    {
     "data": {
      "text/plain": [
       "14"
      ]
     },
     "execution_count": 2,
     "metadata": {},
     "output_type": "execute_result"
    }
   ],
   "source": [
    "mylist=[14, \"hello\", 967]\n",
    "mylist[1]\n",
    "#index error, il faut afficher le contenu d'un index déjà présent dans la liste"
   ]
  },
  {
   "cell_type": "code",
   "execution_count": 22,
   "id": "7fb51535",
   "metadata": {},
   "outputs": [],
   "source": [
    "import pandas as pd\n",
    "import numpy as np\n",
    "#index error, pandas et numpy doivent être écrits en minuscule"
   ]
  },
  {
   "cell_type": "code",
   "execution_count": 7,
   "id": "0c0f0b61",
   "metadata": {},
   "outputs": [
    {
     "name": "stdout",
     "output_type": "stream",
     "text": [
      "python errors\n"
     ]
    }
   ],
   "source": [
    "print(\"python errors\")"
   ]
  },
  {
   "cell_type": "code",
   "execution_count": 9,
   "id": "88a189d6",
   "metadata": {},
   "outputs": [
    {
     "data": {
      "text/plain": [
       "'hello'"
      ]
     },
     "execution_count": 9,
     "metadata": {},
     "output_type": "execute_result"
    }
   ],
   "source": [
    "mydictionnary={True:\"hello\",False:\"bye\", '3':\"python\"}\n",
    "mydictionnary[True]\n",
    "#key error, True est un booléen et non un string"
   ]
  },
  {
   "cell_type": "code",
   "execution_count": 10,
   "id": "02c71d12",
   "metadata": {},
   "outputs": [
    {
     "name": "stdout",
     "output_type": "stream",
     "text": [
      "14\n",
      "15\n",
      "16\n",
      "17\n",
      "18\n",
      "19\n",
      "20\n",
      "21\n",
      "22\n",
      "23\n",
      "24\n",
      "25\n",
      "26\n",
      "27\n",
      "28\n",
      "29\n",
      "30\n",
      "31\n",
      "32\n",
      "33\n",
      "34\n",
      "35\n",
      "36\n",
      "37\n",
      "38\n",
      "39\n",
      "40\n",
      "41\n",
      "42\n",
      "43\n",
      "44\n",
      "45\n",
      "46\n",
      "47\n",
      "48\n",
      "49\n",
      "50\n",
      "51\n",
      "52\n",
      "53\n",
      "54\n",
      "55\n",
      "56\n",
      "57\n",
      "58\n",
      "59\n",
      "60\n",
      "61\n",
      "62\n",
      "63\n",
      "64\n",
      "65\n",
      "66\n",
      "67\n",
      "68\n",
      "69\n",
      "70\n",
      "71\n",
      "72\n",
      "73\n",
      "74\n",
      "75\n",
      "76\n",
      "77\n"
     ]
    }
   ],
   "source": [
    "i=14\n",
    "while i<78:\n",
    "    print(i)\n",
    "    i+=1\n",
    "#indentation error, la tabulation est importante dans une boucle ou une condition "
   ]
  },
  {
   "cell_type": "code",
   "execution_count": 13,
   "id": "31d4c0cd",
   "metadata": {},
   "outputs": [
    {
     "data": {
      "text/plain": [
       "2"
      ]
     },
     "execution_count": 13,
     "metadata": {},
     "output_type": "execute_result"
    }
   ],
   "source": [
    "it=iter([1,2,3])\n",
    "next(it)\n",
    "next(it)\n",
    "next(it)\n",
    "#stopiteration, on ne peut pas afficher un élément qui est en excès par rapport à une liste définie"
   ]
  },
  {
   "cell_type": "code",
   "execution_count": 15,
   "id": "cc264d24",
   "metadata": {},
   "outputs": [
    {
     "data": {
      "text/plain": [
       "30"
      ]
     },
     "execution_count": 15,
     "metadata": {},
     "output_type": "execute_result"
    }
   ],
   "source": [
    "15+15\n",
    "#typeerror, on ne peut pas additioner des int avec des string"
   ]
  },
  {
   "cell_type": "code",
   "execution_count": 17,
   "id": "09ce7cd5",
   "metadata": {},
   "outputs": [
    {
     "data": {
      "text/plain": [
       "909090"
      ]
     },
     "execution_count": 17,
     "metadata": {},
     "output_type": "execute_result"
    }
   ],
   "source": [
    "int('909090')\n",
    "#valueerror, on ne peut pas convertir un string en int"
   ]
  },
  {
   "cell_type": "code",
   "execution_count": 19,
   "id": "7093f8be",
   "metadata": {},
   "outputs": [
    {
     "data": {
      "text/plain": [
       "1900.0"
      ]
     },
     "execution_count": 19,
     "metadata": {},
     "output_type": "execute_result"
    }
   ],
   "source": [
    "x=19/0.01\n",
    "x\n",
    "#zerodivisionerror, on ne peut pas diviser par 0"
   ]
  },
  {
   "cell_type": "code",
   "execution_count": 21,
   "id": "9706345c",
   "metadata": {},
   "outputs": [],
   "source": [
    "python = 2\n",
    "#nameerror, python n'est ni une variable ni une fonction"
   ]
  },
  {
   "cell_type": "code",
   "execution_count": null,
   "id": "32600182",
   "metadata": {},
   "outputs": [],
   "source": []
  }
 ],
 "metadata": {
  "kernelspec": {
   "display_name": "Python 3 (ipykernel)",
   "language": "python",
   "name": "python3"
  },
  "language_info": {
   "codemirror_mode": {
    "name": "ipython",
    "version": 3
   },
   "file_extension": ".py",
   "mimetype": "text/x-python",
   "name": "python",
   "nbconvert_exporter": "python",
   "pygments_lexer": "ipython3",
   "version": "3.9.12"
  }
 },
 "nbformat": 4,
 "nbformat_minor": 5
}
